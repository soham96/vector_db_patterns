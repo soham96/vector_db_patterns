{
 "cells": [
  {
   "cell_type": "code",
   "execution_count": 1,
   "id": "22038cf7",
   "metadata": {},
   "outputs": [],
   "source": [
    "import chromadb\n",
    "from chromadb.config import Settings\n",
    "import os\n",
    "import glob\n",
    "import uuid\n",
    "from tqdm import tqdm"
   ]
  },
  {
   "cell_type": "code",
   "execution_count": 19,
   "id": "d242f872",
   "metadata": {},
   "outputs": [],
   "source": [
    "chroma_client = chromadb.Client(Settings(chroma_db_impl=\"duckdb+parquet\",\n",
    "                                persist_directory=\"chroma_data\"\n",
    "                                ))"
   ]
  },
  {
   "cell_type": "code",
   "execution_count": 21,
   "id": "c92ad1d8",
   "metadata": {},
   "outputs": [
    {
     "name": "stderr",
     "output_type": "stream",
     "text": [
      "No embedding_function provided, using default embedding function: DefaultEmbeddingFunction https://huggingface.co/sentence-transformers/all-MiniLM-L6-v2\n"
     ]
    }
   ],
   "source": [
    "collection = chroma_client.create_collection(name=\"wiki_articles\")"
   ]
  },
  {
   "cell_type": "code",
   "execution_count": 22,
   "id": "b3af6595",
   "metadata": {},
   "outputs": [],
   "source": [
    "article_body_files=glob.glob(\"data/*/bodyText.txt\")"
   ]
  },
  {
   "cell_type": "code",
   "execution_count": 23,
   "id": "c4eb5a4a",
   "metadata": {},
   "outputs": [],
   "source": [
    "def process_document(document_text, document_link):\n",
    "    processed_documents=[x for x in document_text.split('\\n') if x.strip()]\n",
    "    ids=[uuid.uuid4().hex for _ in range(len(processed_documents))]\n",
    "    metadata=[{\"source\": document_link}]*len(processed_documents)\n",
    "    \n",
    "    return processed_documents, ids, metadata"
   ]
  },
  {
   "cell_type": "code",
   "execution_count": 24,
   "id": "1c098250",
   "metadata": {},
   "outputs": [
    {
     "name": "stderr",
     "output_type": "stream",
     "text": [
      "\r",
      "  0%|                                                                                                                                                              | 0/20 [00:00<?, ?it/s]"
     ]
    },
    {
     "name": "stdout",
     "output_type": "stream",
     "text": [
      "Adding page https://en.wikipedia.org//wiki/Jerzy_Neyman to db\n"
     ]
    },
    {
     "name": "stderr",
     "output_type": "stream",
     "text": [
      "\r",
      "  5%|███████▌                                                                                                                                              | 1/20 [00:00<00:04,  4.35it/s]"
     ]
    },
    {
     "name": "stdout",
     "output_type": "stream",
     "text": [
      "Adding page https://en.wikipedia.org//wiki/Sn%C4%9B%C5%BEka to db\n"
     ]
    },
    {
     "name": "stderr",
     "output_type": "stream",
     "text": [
      " 15%|██████████████████████▌                                                                                                                               | 3/20 [00:04<00:25,  1.51s/it]"
     ]
    },
    {
     "name": "stdout",
     "output_type": "stream",
     "text": [
      "Adding page https://en.wikipedia.org//wiki/Absolute_Monarchs to db\n",
      "Adding page https://en.wikipedia.org//wiki/On_Spirals to db\n",
      "Adding page https://en.wikipedia.org//wiki/SignWriting to db\n"
     ]
    },
    {
     "name": "stderr",
     "output_type": "stream",
     "text": [
      "\r",
      " 25%|█████████████████████████████████████▌                                                                                                                | 5/20 [00:05<00:14,  1.03it/s]"
     ]
    },
    {
     "name": "stdout",
     "output_type": "stream",
     "text": [
      "Adding page https://en.wikipedia.org//wiki/Ch%E1%BB%AF_Qu%E1%BB%91c_ng%E1%BB%AF to db\n"
     ]
    },
    {
     "name": "stderr",
     "output_type": "stream",
     "text": [
      "\r",
      " 30%|█████████████████████████████████████████████                                                                                                         | 6/20 [00:08<00:19,  1.40s/it]"
     ]
    },
    {
     "name": "stdout",
     "output_type": "stream",
     "text": [
      "Adding page https://en.wikipedia.org//wiki/Love_Sux to db\n"
     ]
    },
    {
     "name": "stderr",
     "output_type": "stream",
     "text": [
      "\r",
      " 35%|████████████████████████████████████████████████████▌                                                                                                 | 7/20 [00:09<00:15,  1.22s/it]"
     ]
    },
    {
     "name": "stdout",
     "output_type": "stream",
     "text": [
      "Adding page https://en.wikipedia.org//wiki/Israel_Houghton to db\n"
     ]
    },
    {
     "name": "stderr",
     "output_type": "stream",
     "text": [
      "\r",
      " 40%|████████████████████████████████████████████████████████████                                                                                          | 8/20 [00:09<00:11,  1.05it/s]"
     ]
    },
    {
     "name": "stdout",
     "output_type": "stream",
     "text": [
      "Adding page https://en.wikipedia.org//wiki/Lee_Roy_Selmon to db\n"
     ]
    },
    {
     "name": "stderr",
     "output_type": "stream",
     "text": [
      "\r",
      " 45%|███████████████████████████████████████████████████████████████████▌                                                                                  | 9/20 [00:09<00:08,  1.31it/s]"
     ]
    },
    {
     "name": "stdout",
     "output_type": "stream",
     "text": [
      "Adding page https://en.wikipedia.org//wiki/1904_World_Wrestling_Championships to db\n",
      "Adding page https://en.wikipedia.org//wiki/Molla_Panah_Vagif to db\n"
     ]
    },
    {
     "name": "stderr",
     "output_type": "stream",
     "text": [
      "\r",
      " 55%|█████████████████████████████████████████████████████████████████████████████████▉                                                                   | 11/20 [00:09<00:04,  2.15it/s]"
     ]
    },
    {
     "name": "stdout",
     "output_type": "stream",
     "text": [
      "Adding page https://en.wikipedia.org//wiki/Kreuzlingen to db\n"
     ]
    },
    {
     "name": "stderr",
     "output_type": "stream",
     "text": [
      " 65%|████████████████████████████████████████████████████████████████████████████████████████████████▊                                                    | 13/20 [00:10<00:02,  2.61it/s]"
     ]
    },
    {
     "name": "stdout",
     "output_type": "stream",
     "text": [
      "Adding page https://en.wikipedia.org//wiki/Eustache_Charles_d%27Aoust to db\n",
      "Adding page https://en.wikipedia.org//wiki/Construction_and_management_simulation to db\n"
     ]
    },
    {
     "name": "stderr",
     "output_type": "stream",
     "text": [
      "\r",
      " 70%|████████████████████████████████████████████████████████████████████████████████████████████████████████▎                                            | 14/20 [00:10<00:02,  2.69it/s]"
     ]
    },
    {
     "name": "stdout",
     "output_type": "stream",
     "text": [
      "Adding page https://en.wikipedia.org//wiki/Net_income to db\n"
     ]
    },
    {
     "name": "stderr",
     "output_type": "stream",
     "text": [
      " 80%|███████████████████████████████████████████████████████████████████████████████████████████████████████████████████████▏                             | 16/20 [00:11<00:01,  3.11it/s]"
     ]
    },
    {
     "name": "stdout",
     "output_type": "stream",
     "text": [
      "Adding page https://en.wikipedia.org//wiki/Red_herring to db\n",
      "Adding page https://en.wikipedia.org//wiki/Google_Clips to db\n"
     ]
    },
    {
     "name": "stderr",
     "output_type": "stream",
     "text": [
      "\r",
      " 95%|█████████████████████████████████████████████████████████████████████████████████████████████████████████████████████████████████████████████▌       | 19/20 [00:11<00:00,  5.67it/s]"
     ]
    },
    {
     "name": "stdout",
     "output_type": "stream",
     "text": [
      "Adding page https://en.wikipedia.org//wiki/Lauren_Beck to db\n",
      "Adding page https://en.wikipedia.org//wiki/Battle_of_Jinan to db\n",
      "Adding page https://en.wikipedia.org//wiki/Law_of_Denmark to db\n"
     ]
    },
    {
     "name": "stderr",
     "output_type": "stream",
     "text": [
      "100%|█████████████████████████████████████████████████████████████████████████████████████████████████████████████████████████████████████████████████████| 20/20 [00:11<00:00,  1.70it/s]\n"
     ]
    }
   ],
   "source": [
    "for article_body_file in tqdm(article_body_files[:20]):\n",
    "    article_link_file=os.path.join(os.path.dirname(article_body_file), 'articleLink.txt')\n",
    "    \n",
    "    with open(article_body_file, 'r') as file:\n",
    "        document_text = file.read()\n",
    "\n",
    "    with open(article_link_file, 'r') as file:\n",
    "        document_link = file.read()\n",
    "    \n",
    "    processed_documents, ids, metadata = process_document(document_text, document_link)\n",
    "    \n",
    "    print(f\"Adding page {document_link} to db\")\n",
    "    collection.add(documents=processed_documents, metadatas=metadata, ids=ids)"
   ]
  },
  {
   "cell_type": "code",
   "execution_count": 27,
   "id": "51f22f70",
   "metadata": {},
   "outputs": [
    {
     "data": {
      "text/plain": [
       "{'ids': [['182d064af4414ac98ccc8a2c33b627a9',\n",
       "   'f20402594c784b989286c8303b1e51c2']],\n",
       " 'embeddings': None,\n",
       " 'documents': [['The Battle of Jinan  was a critical engagement fought between the Kuomintang (KMT or Chinese Nationalist Party) and the Chinese Communist Party (CCP) from September 16 to September 24, 1948 during the Chinese Civil War. The communist Eastern China Field Army besieged and finally captured the city of Jinan, the capital of Shandong Province and a major urban center as well as a transportation hub in northeastern China that had a population of about 600,000 at the time of the battle.  The communist victory set the stage for the Huaihai Campaign.',\n",
       "   'Jinan was the first major urban center to be captured by the communists (the Siege of Changchun had begun on May 23 already, but the city was only captured on October 19, 1948). Zhou Enlai hence referred to the Battle of Jinan as the starting point for the \"three great battles\" (Chinese: 三大战役; pinyin: sān dà zhànyì), namely the Liaoshen Campaign (the first stage of which had already begun on September 12, 1948, i.e., a few days prior to the Battle of Jinan), the Huaihai Campaign, and the Pingjin Campaign that established communist control over northern China.']],\n",
       " 'metadatas': [[{'source': 'https://en.wikipedia.org//wiki/Battle_of_Jinan'},\n",
       "   {'source': 'https://en.wikipedia.org//wiki/Battle_of_Jinan'}]],\n",
       " 'distances': [[0.5861749649047852, 0.6818416714668274]]}"
      ]
     },
     "execution_count": 27,
     "metadata": {},
     "output_type": "execute_result"
    }
   ],
   "source": [
    "collection.query(query_texts=['who won the battle of jinan'], n_results=2)"
   ]
  },
  {
   "cell_type": "code",
   "execution_count": 20,
   "id": "5120c765",
   "metadata": {},
   "outputs": [
    {
     "data": {
      "text/plain": [
       "{'ids': [], 'embeddings': [], 'documents': [], 'metadatas': []}"
      ]
     },
     "execution_count": 20,
     "metadata": {},
     "output_type": "execute_result"
    }
   ],
   "source": [
    "collection.peek()"
   ]
  },
  {
   "cell_type": "code",
   "execution_count": 17,
   "id": "7ba34f37",
   "metadata": {},
   "outputs": [],
   "source": [
    "collection.delete()"
   ]
  },
  {
   "cell_type": "code",
   "execution_count": null,
   "id": "37bd0e46",
   "metadata": {},
   "outputs": [],
   "source": []
  }
 ],
 "metadata": {
  "kernelspec": {
   "display_name": "Python 3 (ipykernel)",
   "language": "python",
   "name": "python3"
  },
  "language_info": {
   "codemirror_mode": {
    "name": "ipython",
    "version": 3
   },
   "file_extension": ".py",
   "mimetype": "text/x-python",
   "name": "python",
   "nbconvert_exporter": "python",
   "pygments_lexer": "ipython3",
   "version": "3.10.6"
  }
 },
 "nbformat": 4,
 "nbformat_minor": 5
}
